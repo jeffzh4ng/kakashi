{
 "cells": [
  {
   "cell_type": "code",
   "execution_count": 14,
   "id": "903aeeb0-d7d4-4269-995b-ddf3956692fe",
   "metadata": {},
   "outputs": [
    {
     "name": "stdout",
     "output_type": "stream",
     "text": [
      "torch.Size([8, 4, 256])\n"
     ]
    }
   ],
   "source": [
    "# 1. data\n",
    "import tiktoken\n",
    "import torch\n",
    "from torch.utils.data import Dataset, DataLoader\n",
    "\n",
    "class GPTDatasetV1(Dataset):\n",
    "    def __init__(self, txt, tokenizer, max_length, stride):\n",
    "        self.X = []\n",
    "        self.Y = []\n",
    "\n",
    "        # 1. tokenize, and extract samples (x1...xn, y) pairs\n",
    "        token_ids = tokenizer.encode(txt, allowed_special={\"<|endoftext|>\"})\n",
    "        for i in range(0, len(token_ids) - max_length, stride):\n",
    "            x = token_ids[i:i+max_length]\n",
    "            y = token_ids[i+1:i+max_length+1]\n",
    "            \n",
    "            self.X.append(torch.tensor(x))\n",
    "            self.Y.append(torch.tensor(y))\n",
    "\n",
    "    def __len__(self):\n",
    "        return len(self.X)\n",
    "\n",
    "    def __getitem__(self, i):\n",
    "        return self.X[i], self.Y[i]\n",
    "\n",
    "# 1. preprocess input\n",
    "with open(\"../data/book.txt\", \"r\", encoding=\"utf-8\") as f:\n",
    "    input_text = f.read()\n",
    "    \n",
    "tokenizer = tiktoken.get_encoding(\"gpt2\")\n",
    "dataset = GPTDatasetV1(input_text, tokenizer, max_length=4, stride=4)\n",
    "dataloader = DataLoader(dataset, batch_size=8, shuffle=True, drop_last=True, num_workers=0)\n",
    "\n",
    "# 2. embed: String -> R^n\n",
    "token_embedding_layer = torch.nn.Embedding(num_embeddings=50257, embedding_dim=256) # num_embeddings := vocab_size\n",
    "pos_embedding_layer = torch.nn.Embedding(num_embeddings=1024, embedding_dim=256) # num_embeddings := context_length\n",
    "for x, y in dataloader:\n",
    "    token_embeddings = token_embedding_layer(x)\n",
    "    pos_embeddings = pos_embedding_layer(torch.arange(4))\n",
    "    \n",
    "    input_embeddings = token_embeddings + pos_embeddings\n",
    "    break\n",
    "\n",
    "print(input_embeddings.shape)"
   ]
  },
  {
   "cell_type": "code",
   "execution_count": null,
   "id": "eac3a2ed-909f-4848-9b2c-d7a8edf3a2f3",
   "metadata": {},
   "outputs": [],
   "source": [
    "# 2. model\n",
    "\n",
    "# 2a attention\n",
    "class CausalSelfAttention(nn.Module):\n",
    "    def __init__():\n",
    "\n",
    "    def forward(self, x):\n",
    "\n",
    "class MultiHeadAttentionWrapper(nn.Module):\n",
    "    def __init__():\n",
    "\n",
    "    def forward(self, x):\n",
    "\n",
    "torch.manual_seed(123)\n",
    "mha = MultiHeadAttentionWrapper(d_in=output_dim, d_out=d_in//num_heads, context_length=max_length, 0.0, num_heads=2)\n",
    "batch = input_embeddings\n",
    "context_vecs = mha(batch)\n",
    "\n",
    "print(\"context_vecs.shape:\", context_vecs.shape)\n",
    "\n",
    "# 2b gpt"
   ]
  },
  {
   "cell_type": "code",
   "execution_count": null,
   "id": "56944207-f6ec-4059-a4d3-aefa555c813b",
   "metadata": {},
   "outputs": [],
   "source": [
    "# 3. training loop"
   ]
  },
  {
   "cell_type": "code",
   "execution_count": null,
   "id": "27af1d37-fe05-4f93-a4a2-e4ad3d559678",
   "metadata": {},
   "outputs": [],
   "source": [
    "# 4. training run"
   ]
  },
  {
   "cell_type": "code",
   "execution_count": null,
   "id": "5aaf0e60-ebf5-42b9-be4e-13fbdfcae05b",
   "metadata": {},
   "outputs": [],
   "source": [
    "# 5. inference"
   ]
  }
 ],
 "metadata": {
  "kernelspec": {
   "display_name": "language",
   "language": "python",
   "name": "language"
  },
  "language_info": {
   "codemirror_mode": {
    "name": "ipython",
    "version": 3
   },
   "file_extension": ".py",
   "mimetype": "text/x-python",
   "name": "python",
   "nbconvert_exporter": "python",
   "pygments_lexer": "ipython3",
   "version": "3.12.3"
  }
 },
 "nbformat": 4,
 "nbformat_minor": 5
}
