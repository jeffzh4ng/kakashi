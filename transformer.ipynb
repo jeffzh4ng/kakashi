{
 "cells": [
  {
   "cell_type": "code",
   "execution_count": 8,
   "id": "903aeeb0-d7d4-4269-995b-ddf3956692fe",
   "metadata": {},
   "outputs": [
    {
     "ename": "NameError",
     "evalue": "name 'shuffle' is not defined",
     "output_type": "error",
     "traceback": [
      "\u001b[0;31m---------------------------------------------------------------------------\u001b[0m",
      "\u001b[0;31mNameError\u001b[0m                                 Traceback (most recent call last)",
      "Cell \u001b[0;32mIn[8], line 41\u001b[0m\n\u001b[1;32m     39\u001b[0m tokenizer \u001b[38;5;241m=\u001b[39m tiktoken\u001b[38;5;241m.\u001b[39mget_encoding(\u001b[38;5;124m\"\u001b[39m\u001b[38;5;124mgpt2\u001b[39m\u001b[38;5;124m\"\u001b[39m)\n\u001b[1;32m     40\u001b[0m dataset \u001b[38;5;241m=\u001b[39m GPTDatasetV1(input_text, tokenizer, max_length\u001b[38;5;241m=\u001b[39m\u001b[38;5;241m4\u001b[39m, stride\u001b[38;5;241m=\u001b[39m\u001b[38;5;241m4\u001b[39m)\n\u001b[0;32m---> 41\u001b[0m dataloader \u001b[38;5;241m=\u001b[39m DataLoader(dataset, shuffle\u001b[38;5;241m=\u001b[39m\u001b[43mshuffle\u001b[49m, drop_last\u001b[38;5;241m=\u001b[39mdrop_last, num_workers\u001b[38;5;241m=\u001b[39mnum_workers)\n\u001b[1;32m     43\u001b[0m \u001b[38;5;28;01mfor\u001b[39;00m x, y \u001b[38;5;129;01min\u001b[39;00m dl:\n\u001b[1;32m     44\u001b[0m     token_embeddings \u001b[38;5;241m=\u001b[39m token_embedding_layer(x)\n",
      "\u001b[0;31mNameError\u001b[0m: name 'shuffle' is not defined"
     ]
    }
   ],
   "source": [
    "# 1. data\n",
    "import tiktoken\n",
    "import torch\n",
    "from torch.utils.data import Dataset, DataLoader\n",
    "\n",
    "class GPTDatasetV1(Dataset):\n",
    "    def __init__(self, txt, tokenizer, max_length, stride):\n",
    "        self.input_ids = []\n",
    "        self.target_ids = []\n",
    "\n",
    "        # 1. tokenize\n",
    "        token_ids = tokenizer.encode(txt, allowed_special={\"<|endoftext|>\"})\n",
    "\n",
    "        # 2. sliding window to chunk book into overlapping sequences of max_length\n",
    "        for i in range(0, len(token_ids) - max_length, stride):\n",
    "            input_chunk = token_ids[i:i+max_length]\n",
    "            target_chunk = token_ids[i+1: i+max_length+1]\n",
    "            \n",
    "            self.input_ids.append(torch.tensor(input_chunk))\n",
    "            self.target_ids.append(torch.tensor(target_chunk))\n",
    "\n",
    "    def __len__(self):\n",
    "        return len(self.input_ids)\n",
    "\n",
    "    def __getitem__(self, i):\n",
    "        return self.input_ids[i], self.target_ids[i]\n",
    "\n",
    "# 1. embedding layers\n",
    "vocab_size = 50257\n",
    "context_length = 1024\n",
    "output_dim = 256\n",
    "token_embedding_layer = torch.nn.Embedding(vocab_size, output_dim)\n",
    "pos_embedding_layer = torch.nn.Embedding(context_length, output_dim)\n",
    "\n",
    "# 2. dataloader\n",
    "with open(\"./data/book.txt\", \"r\", encoding=\"utf-8\") as f:\n",
    "    input_text = f.read()\n",
    "    \n",
    "tokenizer = tiktoken.get_encoding(\"gpt2\")\n",
    "dataset = GPTDatasetV1(input_text, tokenizer, max_length=4, stride=4)\n",
    "dataloader = DataLoader(dataset, shuffle=True, drop_last=True, num_workers=num_workers)\n",
    "\n",
    "for x, y in dl:\n",
    "    token_embeddings = token_embedding_layer(x)\n",
    "    pos_embeddings = pos_embedding_layer(torch.arange(max_length))\n",
    "    \n",
    "    input_embeddings = token_embeddings + pos_embeddings\n",
    "    break\n",
    "\n",
    "print(input_embeddings.shape)"
   ]
  },
  {
   "cell_type": "code",
   "execution_count": null,
   "id": "eac3a2ed-909f-4848-9b2c-d7a8edf3a2f3",
   "metadata": {},
   "outputs": [],
   "source": [
    "# 2. model"
   ]
  },
  {
   "cell_type": "code",
   "execution_count": null,
   "id": "56944207-f6ec-4059-a4d3-aefa555c813b",
   "metadata": {},
   "outputs": [],
   "source": [
    "# 3. training loop"
   ]
  },
  {
   "cell_type": "code",
   "execution_count": null,
   "id": "27af1d37-fe05-4f93-a4a2-e4ad3d559678",
   "metadata": {},
   "outputs": [],
   "source": [
    "# 4. training run"
   ]
  },
  {
   "cell_type": "code",
   "execution_count": null,
   "id": "5aaf0e60-ebf5-42b9-be4e-13fbdfcae05b",
   "metadata": {},
   "outputs": [],
   "source": [
    "# 5. inference"
   ]
  }
 ],
 "metadata": {
  "kernelspec": {
   "display_name": "language",
   "language": "python",
   "name": "language"
  },
  "language_info": {
   "codemirror_mode": {
    "name": "ipython",
    "version": 3
   },
   "file_extension": ".py",
   "mimetype": "text/x-python",
   "name": "python",
   "nbconvert_exporter": "python",
   "pygments_lexer": "ipython3",
   "version": "3.12.3"
  }
 },
 "nbformat": 4,
 "nbformat_minor": 5
}
